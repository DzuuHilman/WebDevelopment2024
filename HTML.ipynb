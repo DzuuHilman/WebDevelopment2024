{
 "cells": [
  {
   "cell_type": "markdown",
   "metadata": {},
   "source": [
    "# 1. Introducing of HTML"
   ]
  },
  {
   "cell_type": "markdown",
   "metadata": {},
   "source": [
    "HTML (Hyper Text Markup Language) is a languange that is used for **make a body of a website**. \n",
    "\n",
    "For example, if you open Wikipedia, all of the elements in that site, such as text, image, icon, etc., is created by HTML. In other side, HTML can beautify the website by adding some color, text weight, and other else, altough the option is limited. Because of that, HTML is often used only to build the structure of a website.\n"
   ]
  },
  {
   "cell_type": "markdown",
   "metadata": {},
   "source": [
    "Like other coding languange, HTML also has specific syntax to build it. In common, the syntax has same pattern like this: ```<> ... </>```. For example: \n",
    "1. if we want to make a bold sentence, we use  ```<b> This is sentence is bold </b>``` and the output will be like this: <b> This is sentence is bold </b>. \n",
    "2. If we want to make an italic sentence we use ```<i> This sentence is italic </i>``` and the output will be like this: <i> This sentence is italic </i>\n",
    "\n",
    "Other syntax will be explained in later part of this notebook. "
   ]
  },
  {
   "cell_type": "markdown",
   "metadata": {},
   "source": [
    "# 2. HTML Syntaxes"
   ]
  },
  {
   "cell_type": "markdown",
   "metadata": {},
   "source": [
    "## A. Head Structure"
   ]
  },
  {
   "cell_type": "markdown",
   "metadata": {},
   "source": [
    "Head Structure is a section for all metadata of a HTML. Metadata is used to ease search engine, like Google etc., to find the HTML. It is not neccessary, though, if your website don't need to be exposed to world, but it is recommended to fill this section as detail as possible."
   ]
  },
  {
   "cell_type": "markdown",
   "metadata": {},
   "source": [
    "## B. Body Structure"
   ]
  },
  {
   "cell_type": "markdown",
   "metadata": {},
   "source": [
    "### 1. Heading\n"
   ]
  },
  {
   "cell_type": "markdown",
   "metadata": {},
   "source": [
    "Used for make a header section. It's important for index so reader can acknowledge which section they need to read. For example: <br>\n",
    "Syntax: <br>\n",
    "```<h1>First Header</h1> ``` : for first header<br>\n",
    "```<h2>Second Header</h2> ``` : for second header<br>\n",
    "```<h3>Third Header</h3> ``` : for third header<br>\n",
    ".\n",
    ".\n",
    ".\n",
    "\n"
   ]
  },
  {
   "cell_type": "markdown",
   "metadata": {},
   "source": [
    "### 2. Paragraph\n"
   ]
  },
  {
   "cell_type": "markdown",
   "metadata": {},
   "source": [
    "   Used for make a paraghraf body. In HTML, all text used will not automatically have a new line if we add a new line. Instead, it need to add some particular syntax, such as paragraph. <br>\n",
    "   Syntax : ```<p> This is paragraph</p>```\n",
    "   > <p> \"Lorem ipsum dolor sit amet, consectetur adipiscing elit, sed do eiusmod tempor incididunt ut labore et dolore magna aliqua. Ut enim ad minim veniam, quis nostrud exercitation ullamco laboris nisi ut aliquip ex ea commodo consequat. Duis aute irure dolor in reprehenderit in voluptate velit esse cillum dolore eu fugiat nulla pariatur. Excepteur sint occaecat cupidatat non proident, sunt in culpa qui officia deserunt mollit anim id est laborum.\" </p> <p>\"Sed ut perspiciatis unde omnis iste natus error sit voluptatem accusantium doloremque laudantium, totam rem aperiam, eaque ipsa quae ab illo inventore veritatis et quasi architecto beatae vitae dicta sunt explicabo. Nemo enim ipsam voluptatem quia voluptas sit aspernatur aut odit aut fugit, sed quia consequuntur magni dolores eos qui ratione voluptatem sequi nesciunt. Neque porro quisquam est, qui dolorem ipsum quia dolor sit amet, consectetur, adipisci velit, sed quia non numquam eius modi tempora incidunt ut labore et dolore magnam aliquam quaerat voluptatem. Ut enim ad minima veniam, quis nostrum exercitationem ullam corporis suscipit laboriosam, nisi ut aliquid ex ea commodi consequatur? Quis autem vel eum iure reprehenderit qui in ea voluptate velit esse quam nihil molestiae consequatur, vel illum qui dolorem eum fugiat quo voluptas nulla pariatur?\"</p>\n"
   ]
  },
  {
   "cell_type": "markdown",
   "metadata": {},
   "source": [
    "### 3. "
   ]
  },
  {
   "cell_type": "code",
   "execution_count": null,
   "metadata": {},
   "outputs": [],
   "source": []
  }
 ],
 "metadata": {
  "kernelspec": {
   "display_name": "Python 3",
   "language": "python",
   "name": "python3"
  },
  "language_info": {
   "codemirror_mode": {
    "name": "ipython",
    "version": 3
   },
   "file_extension": ".py",
   "mimetype": "text/x-python",
   "name": "python",
   "nbconvert_exporter": "python",
   "pygments_lexer": "ipython3",
   "version": "3.12.2"
  }
 },
 "nbformat": 4,
 "nbformat_minor": 2
}
